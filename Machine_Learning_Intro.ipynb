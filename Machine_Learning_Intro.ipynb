{
  "nbformat": 4,
  "nbformat_minor": 0,
  "metadata": {
    "colab": {
      "provenance": []
    },
    "kernelspec": {
      "name": "python3",
      "display_name": "Python 3"
    },
    "language_info": {
      "name": "python"
    }
  },
  "cells": [
    {
      "cell_type": "markdown",
      "source": [
        "Machine Learning Intro"
      ],
      "metadata": {
        "id": "ZuwOvGSD3Knc"
      }
    },
    {
      "cell_type": "markdown",
      "source": [
        "Question 1: Explain the differences between AI, ML, Deep Learning (DL), and Data\n",
        "Science (DS).\n",
        "\n",
        "  - Artificial Intelligence (AI)\n",
        "\n",
        "What it is: The overarching field dedicated to building intelligent machines capable of performing tasks that typically require human intelligence, such as reasoning, problem-solving, and decision-making.\n",
        "\n",
        "Goal: To create smart machines that can think and act like humans.\n",
        "\n",
        "Example: Robots that can navigate a room or virtual assistants that understand and respond to complex queries.\n",
        "\n",
        "  - Machine Learning (ML)\n",
        "\n",
        "What it is: A subfield of AI that focuses on enabling systems to learn and improve from experience (data) without being explicitly programmed.\n",
        "\n",
        "How it works: Algorithms are trained on data to identify patterns and make informed decisions or predictions based on those patterns.\n",
        "\n",
        "Example: A spam filter learning to identify unwanted emails by analyzing past emails.\n",
        "\n",
        " - Deep Learning (DL)\n",
        "\n",
        "What it is: A specialized subfield of ML that uses complex, multi-layered artificial neural networks to learn from large datasets.\n",
        "\n",
        "How it works: These \"deep\" neural networks mimic the structure of the human brain to recognize intricate patterns in data, often from raw, unstructured sources like images or text.\n",
        "\n",
        "Example: Image recognition systems that can identify objects in pictures or natural language processing (NLP) models.\n",
        "\n",
        "  - Data Science (DS)\n",
        "\n",
        "What it is: A broad interdisciplinary field that employs scientific methods, processes, algorithms, and systems to extract knowledge and insights from data.\n",
        "\n",
        "How it works: It combines principles from statistics, computer science, AI, ML, and domain expertise to perform tasks like data cleaning, analysis, visualization, and interpretation to guidedecision-making.\n",
        "\n",
        "Example: Analyzing customer purchase history to identify trends and forecast future sales.\n",
        "\n",
        "Question 2: What are the types of machine learning? Describe each with one\n",
        "real-world example.\n",
        "\n",
        "  - Supervised Learning\n",
        "\n",
        "Description: This type of machine learning uses labeled data to train models to make predictions or classifications. The algorithm learns from input-output pairs, where each input has a corresponding correct output label.\n",
        "\n",
        "Real-world example: Email spam detection. The model is trained on a dataset of emails that are already labeled as either \"spam\" or \"not spam\" to learn how to identify future spam emails.\n",
        "\n",
        " - Unsupervised Learning\n",
        "\n",
        "Description: In unsupervised learning, models are trained on unlabeled data and are tasked with finding hidden patterns, structures, or relationships within the data without any human guidance.\n",
        "\n",
        "Real-world example: Customer segmentation. A business can use unsupervised learning to group customers with similar purchasing behaviors to understand different customer segments and tailor marketing efforts accordingly.\n",
        "\n",
        " - Reinforcement Learning\n",
        "\n",
        "Description: This model learns by interacting with an environment through trial and error. An agent takes actions, receives feedback in the form of rewards or penalties, and adjusts its strategy to maximize the total reward over time.\n",
        "\n",
        "Real-world example: Game-playing AI, such as AlphaGo. The AI learns to play a game by making moves and receiving rewards for winning, eventually developing advanced strategies to beat human players.\n",
        "\n",
        " - Semi-Supervised Learning\n",
        "\n",
        "Description: This approach combines techniques from both supervised and unsupervised learning. It uses a small amount of labeled data along with a large amount of unlabeled data to achieve higher accuracy and improve the training process.\n",
        "\n",
        "Real-world example: Improving speech recognition. With a limited number of labeled speech recordings, semi-supervised learning can use a much larger corpus of unlabeled speech data to enhance the accuracy of voice-to-text systems like Siri or Cortana.\n",
        "\n",
        "Question 3: Define overfitting, underfitting, and the bias-variance tradeoff in machine learning.\n",
        "\n",
        "  - Overfitting:\n",
        "\n",
        "Overfitting occurs when a machine learning model learns the training data too well, including its noise and outliers, rather than capturing the underlying general patterns. This leads to excellent performance on the training dataset but poor generalization and inaccurate predictions on new, unseen data (test data). An overfit model has low bias but high variance.\n",
        "\n",
        " - Underfitting:\n",
        "\n",
        "Underfitting occurs when a machine learning model is too simplistic and fails to capture the underlying patterns in the training data. This results in poor performance on both the training data and new, unseen data. An underfit model has high bias but low variance.\n",
        "\n",
        " - Bias-Variance Tradeoff:\n",
        "\n",
        "The bias-variance tradeoff is a fundamental concept in machine learning that describes the relationship between a model's complexity and its ability to generalize. It states that as model complexity increases, bias generally decreases (the model fits the training data better), but variance generally increases (the model becomes more sensitive to fluctuations in the training data and generalizes poorly). Conversely, as model complexity decreases, bias increases, and variance decreases. The goal is to find an optimal balance between bias and variance to minimize the total error and achieve good performance on both training and unseen data. This balance represents the sweet spot where the model is complex enough to capture the relevant patterns but not so complex that it overfits the training data.\n",
        "\n",
        "Question 4: What are outliers in a dataset, and list three common techniques for\n",
        "handling them.\n",
        "\n",
        "  - An outlier is a data point in a dataset that is significantly different from the other observations. Outliers can be much higher or lower than the majority of the data and can disproportionately influence statistical analyses, causing inaccurate or misleading results.\n",
        "\n",
        "Three common techniques for handling outliers\n",
        "\n",
        " - Removal (Trimming):\n",
        "\n",
        "Method: This involves deleting the data point or rows that contain the outlier.\n",
        "\n",
        "When to use: It is best used when an outlier is known to be the result of a data entry or measurement error and represents an incorrect value. It can also be appropriate for very large datasets where removing a few points will not significantly impact the overall analysis.\n",
        "\n",
        "Caution: This method should be used carefully, as removing valid data points can introduce bias and lead to inaccurate conclusions, especially in small datasets.\n",
        "\n",
        " - Capping (Winsorization):\n",
        "\n",
        "Method: This technique replaces the outlier values with the nearest non-outlier value or a pre-defined percentile value, such as the 5th or 95th percentile. For example, using the interquartile range (IQR) method, any value above the upper bound (\\(Q3+1.5\\times IQR\\)) is replaced with the upper bound itself.\n",
        "\n",
        "When to use: It is useful when the data points are true but extreme values. This approach reduces the impact of the outliers without completely removing them and the potentially valuable information they contain.\n",
        "\n",
        " -Transformation:\n",
        "\n",
        "Method: This involves applying a mathematical function, such as a logarithmic or square root transformation, to the data. This can compress the range of the data, bringing extreme values closer to the center of the distribution and reducing their influence.\n",
        "\n",
        "When to use: Transformation is effective for datasets with a skewed distribution where a small number of very high or low values are causing the skew. It is useful when you want to use a model that assumes a normal distribution.\n",
        "\n",
        "Question 5: Explain the process of handling missing values and mention one\n",
        "imputation technique for numerical and one for categorical data.\n",
        "\n",
        "The Process of Handling Missing Values\n",
        "\n",
        " - Detection: First, identify where and how many missing values exist in your dataset.\n",
        "\n",
        " - Strategy Selection: Decide on a strategy based on the data type, the number of missing values, and the impact on analysis. Common strategies include:\n",
        "Deletion: Remove entire rows (listwise deletion) or columns with missing data, though this can lead to information loss.\n",
        "Imputation: Replace missing values with estimated values, which helps preserve the dataset size and can improve model performance.\n",
        "\n",
        " - Imputation: Apply a chosen imputation technique to fill the gaps.\n",
        " - Evaluation: Check the impact of the chosen strategy on the dataset and the resulting models.\n",
        "\n",
        "Imputation Techniques\n",
        "\n",
        "For Numerical Data: Mean/Median Imputation\n",
        "\n",
        "How it works: Replace the missing values in a numerical column with the mean (average) or median (middle value) of the existing non-missing values in that column.\n",
        "\n",
        "When to use: Effective for numerical data with a small percentage of missing values, especially when the distribution is not heavily skewed.\n",
        "\n",
        "For Categorical Data: Mode Imputation\n",
        "\n",
        "How it works: Replace missing values in a categorical column with the mode, which is the category that appears most frequently in that column.\n",
        "When to use: Suitable for categorical features where the missing data is relatively low and randomly distributed, as it is simple and fast to implement."
      ],
      "metadata": {
        "id": "U7BeCiti3QNG"
      }
    },
    {
      "cell_type": "code",
      "execution_count": 5,
      "metadata": {
        "colab": {
          "base_uri": "https://localhost:8080/"
        },
        "id": "pyxRv-ZX3Is6",
        "outputId": "f7bd6e80-9a86-48a9-f50f-899f86923ec6"
      },
      "outputs": [
        {
          "output_type": "stream",
          "name": "stdout",
          "text": [
            "Class Distribution:\n",
            "Class 0: 894 samples\n",
            "Class 1: 106 samples\n"
          ]
        }
      ],
      "source": [
        "# Question 6: Write a Python program that:\n",
        "# ● Creates a synthetic imbalanced dataset with make_classification() from\n",
        "# sklearn.datasets.\n",
        "# ● Prints the class distribution\n",
        "\n",
        "from sklearn.datasets import make_classification\n",
        "import numpy as np\n",
        "\n",
        "\n",
        "X, y = make_classification(n_samples=1000,\n",
        "                           n_features=2,\n",
        "                           n_informative=2,\n",
        "                           n_redundant=0,\n",
        "                           n_classes=2,\n",
        "                           weights=[0.9, 0.1],  # 90% majority class, 10% minority class\n",
        "                           random_state=42)\n",
        "\n",
        "# Print the class distribution\n",
        "unique_classes, class_counts = np.unique(y, return_counts=True)\n",
        "\n",
        "print(\"Class Distribution:\")\n",
        "for cls, count in zip(unique_classes, class_counts):\n",
        "    print(f\"Class {cls}: {count} samples\")\n"
      ]
    },
    {
      "cell_type": "code",
      "source": [
        "# Question 7: Implement one-hot encoding using pandas for the following list of colors:\n",
        "# ['Red', 'Green', 'Blue', 'Green', 'Red']. Print the resulting dataframe.\n",
        "\n",
        "import pandas as pd\n",
        "\n",
        "# The list of colors\n",
        "colors = ['Red', 'Green', 'Blue', 'Green', 'Red']\n",
        "\n",
        "# Convert the list to a pandas Series\n",
        "colors_series = pd.Series(colors)\n",
        "\n",
        "# Apply one-hot encoding using pd.get_dummies()\n",
        "one_hot_encoded_df = pd.get_dummies(colors_series)\n",
        "\n",
        "# Print the resulting DataFrame\n",
        "print(one_hot_encoded_df)"
      ],
      "metadata": {
        "colab": {
          "base_uri": "https://localhost:8080/"
        },
        "id": "m9PvgwGh8Y24",
        "outputId": "7bc00ac8-98f7-4b26-fa08-bc34b964a220"
      },
      "execution_count": 6,
      "outputs": [
        {
          "output_type": "stream",
          "name": "stdout",
          "text": [
            "    Blue  Green    Red\n",
            "0  False  False   True\n",
            "1  False   True  False\n",
            "2   True  False  False\n",
            "3  False   True  False\n",
            "4  False  False   True\n"
          ]
        }
      ]
    },
    {
      "cell_type": "code",
      "source": [
        "# Question 8: Write a Python script to:\n",
        "# ● Generate 1000 samples from a normal distribution.\n",
        "# ● Introduce 50 random missing values.\n",
        "# ● Fill missing values with the column mean.\n",
        "# ● Plot a histogram before and after imputation.\n",
        "\n",
        "import numpy as np\n",
        "import matplotlib.pyplot as plt\n",
        "\n",
        "# 1. Generate 1000 samples from a normal distribution\n",
        "np.random.seed(42)  # for reproducibility\n",
        "data = np.random.normal(loc=0, scale=1, size=1000)\n",
        "\n",
        "# Create a copy for imputation\n",
        "data_with_missing = data.copy()\n",
        "\n",
        "# 2. Introduce 50 random missing values\n",
        "num_missing = 50\n",
        "missing_indices = np.random.choice(len(data_with_missing), num_missing, replace=False)\n",
        "data_with_missing[missing_indices] = np.nan  # Introduce NaN values\n",
        "\n",
        "# 3. Fill missing values with the column mean\n",
        "# Calculate the mean, ignoring NaN values\n",
        "mean_value = np.nanmean(data_with_missing)\n",
        "data_imputed = np.nan_to_num(data_with_missing, nan=mean_value)\n",
        "\n",
        "# 4. Plot a histogram before and after imputation\n",
        "plt.figure(figsize=(12, 6))\n",
        "\n",
        "plt.subplot(1, 2, 1)\n",
        "plt.hist(data_with_missing[~np.isnan(data_with_missing)], bins=30, color='skyblue', edgecolor='black')\n",
        "plt.title('Histogram Before Imputation (Missing Values Removed for Plotting)')\n",
        "plt.xlabel('Value')\n",
        "plt.ylabel('Frequency')\n",
        "\n",
        "plt.subplot(1, 2, 2)\n",
        "plt.hist(data_imputed, bins=30, color='lightcoral', edgecolor='black')\n",
        "plt.title('Histogram After Imputation (Mean Imputation)')\n",
        "plt.xlabel('Value')\n",
        "plt.ylabel('Frequency')\n",
        "\n",
        "plt.tight_layout()\n",
        "plt.show()"
      ],
      "metadata": {
        "colab": {
          "base_uri": "https://localhost:8080/",
          "height": 607
        },
        "id": "Q2dSsrS28p7x",
        "outputId": "5a649a55-b8b2-4429-e3e7-69647d31faa5"
      },
      "execution_count": 8,
      "outputs": [
        {
          "output_type": "display_data",
          "data": {
            "text/plain": [
              "<Figure size 1200x600 with 2 Axes>"
            ],
            "image/png": "[encoded data removed]"
          },
          "metadata": {}
        }
      ]
    },
    {
      "cell_type": "code",
      "source": [
        "# Question 9: Implement Min-Max scaling on the following list of numbers [2, 5, 10, 15,\n",
        "# 20] using sklearn.preprocessing.MinMaxScaler. Print the scaled array.\n",
        "\n",
        "import numpy as np\n",
        "from sklearn.preprocessing import MinMaxScaler\n",
        "\n",
        "# The list of numbers\n",
        "data = [2, 5, 10, 15, 20]\n",
        "\n",
        "# Reshape the data to a 2D array as required by MinMaxScaler\n",
        "data_reshaped = np.array(data).reshape(-1, 1)\n",
        "\n",
        "# Create a MinMaxScaler object\n",
        "scaler = MinMaxScaler()\n",
        "\n",
        "# Fit the scaler to the data and transform it\n",
        "scaled_data = scaler.fit_transform(data_reshaped)\n",
        "\n",
        "# Print the scaled array\n",
        "print(scaled_data)\n"
      ],
      "metadata": {
        "colab": {
          "base_uri": "https://localhost:8080/"
        },
        "id": "yNR7kZl79IM2",
        "outputId": "f0d72ce9-01aa-4705-c261-ee400736e284"
      },
      "execution_count": 9,
      "outputs": [
        {
          "output_type": "stream",
          "name": "stdout",
          "text": [
            "[[0.        ]\n",
            " [0.16666667]\n",
            " [0.44444444]\n",
            " [0.72222222]\n",
            " [1.        ]]\n"
          ]
        }
      ]
    },
    {
      "cell_type": "markdown",
      "source": [
        "Question 10: You are working as a data scientist for a retail company. You receive a customer\n",
        "transaction dataset that contains:\n",
        "\n",
        "● Missing ages,\n",
        "\n",
        "● Outliers in transaction amount,\n",
        "\n",
        "● A highly imbalanced target (fraud vs. non-fraud),\n",
        "\n",
        "● Categorical variables like payment method.\n",
        "\n",
        "Explain the step-by-step data preparation plan you’d follow before training a machine learning model. Include how you’d address missing data, outliers, imbalance, and encoding.\n",
        "\n",
        "\n",
        "1. Exploratory Data Analysis (EDA) and data understanding\n",
        "Before starting any data manipulation, perform a thorough EDA to understand the data's characteristics, identify data quality issues, and gain domain knowledge.\n",
        "Analyze variables: Review the distributions of numerical features like age and transaction amount using histograms and box plots. Identify the range, central tendency, and shape of the data.\n",
        "Investigate missing data: Check the count and percentage of missing values in the age column to determine the best imputation strategy.\n",
        "Visualize the target variable: Plot the distribution of the fraud vs. non-fraud target. This will visually confirm the high class imbalance and guide the choice of evaluation metrics.\n",
        "Examine categorical features: Use bar plots to analyze the distribution of payment method categories. Note the cardinality (number of unique categories) to inform the encoding strategy.\n",
        "Uncover relationships: Use correlation matrices, scatter plots, and grouped analyses to explore the relationships between features and the target variable.\n",
        "\n",
        "2. Handle missing data (missing ages)\n",
        "The imputation strategy for age should depend on the nature of the missingness and the data's distribution.\n",
        "Simple imputation (initial consideration): If the data is missing at random and the proportion is small, simple imputation methods can be used.\n",
        "Median imputation: Fill missing age values with the median. This is robust to outliers and works well if the age distribution is skewed.\n",
        "Mean imputation: Fill missing age values with the mean. This is faster but should be avoided if the data has outliers.\n",
        "Advanced imputation (recommended): For a more accurate approach, use a method that leverages other features in the dataset.K-Nearest Neighbors (KNN) imputation: Impute missing age values based on the k nearest customers with similar characteristics (e.g., transaction history, demographics).Regression imputation: Build a regression model to predict age based on other features in the dataset and use this model to fill in the missing values.\n",
        "\n",
        "3. Handle outliers (transaction amount) Outliers in transaction amount can skew model performance. Their treatment should depend on whether they are data entry errors or legitimate, rare events. Given the fraud detection context, a large transaction amount could be a sign of fraud and should be handled with care, not simply removed. Detection:IQR method: Calculate the Interquartile Range (\\(IQR=Q_{3}-Q_{1}\\)). Flag as outliers any values below \\(Q_{1}-1.5\\times IQR\\) or above \\(Q_{3}+1.5\\times IQR\\). This is a robust method as it's less sensitive to extreme values than methods based on the mean and standard deviation.Visualizations: Use box plots to easily visualize potential outliers.\n",
        "Treatment:\n",
        "Capping (Winsorizing): Set a maximum and minimum threshold based on a percentile (e.g., cap the top 5% of transaction amounts at the 95th percentile value). This retains the data points while reducing the influence of extreme values.\n",
        "Transformation: Apply a logarithmic transformation to the transaction amount. This will compress the range of the data, making the distribution less skewed and reducing the impact of outliers.\n",
        "Keep and investigate: In fraud detection, outliers can be legitimate but unusual transactions. It might be best to keep them and let the model learn that extreme values are associated with both fraud and non-fraud. An Isolation Forest model could specifically focus on these anomalies.\n",
        "\n",
        "4. Handle class imbalance (fraud vs. non-fraud)\n",
        "A highly imbalanced target is common in fraud detection, where fraudulent transactions are rare. Training a model on this data can lead to a bias toward the majority class (non-fraud).\n",
        "Evaluation metrics: Use metrics other than accuracy, which is misleading for imbalanced datasets. Better choices include:\n",
        "Precision: What proportion of predicted fraud cases were actually fraudulent?\n",
        "Recall (Sensitivity): What proportion of actual fraud cases were correctly identified?\n",
        "F1-Score: The harmonic mean of precision and recall.\n",
        "ROC-AUC: Measures the model's ability to distinguish between classes.\n",
        "Confusion matrix: Provides a complete picture of true positives, false positives, true negatives, and false negatives.\n",
        "Resampling techniques (data-level):\n",
        "Oversampling (e.g., SMOTE): Generate synthetic data for the minority class (fraud) to increase its representation. SMOTE creates new data points that are a combination of existing fraud cases, addressing overfitting concerns that simple duplication might cause.\n",
        "Undersampling: Randomly remove instances from the majority class (non-fraud). This can be effective but risks losing valuable information.\n",
        "lgorithmic approaches (model-level):\n",
        "Class weights: Many algorithms, such as gradient boosting and random forests, allow for adjusting class weights. This assigns a higher penalty to misclassifying the minority class, forcing the model to pay more attention to fraud cases.\n",
        "Anomaly detection algorithms: Specialized algorithms like Isolation Forest are designed to identify anomalies, which is often a suitable approach for fraud detection.\n",
        "\n",
        "5. Encode categorical variables (payment method)\n",
        "Machine learning models require numerical input. The payment method variable needs to be converted into a numerical format.\n",
        "One-Hot Encoding (OHE): Create a new binary column for each category (e.g., payment_method_credit_card, payment_method_debit_card, etc.). A \"1\" in the column indicates that the category is present for that transaction. This is a common method for nominal (non-ordered) categorical data like payment method.\n",
        "Note on high cardinality: If the payment method variable had a very high number of unique categories, OHE could create too many new features (high dimensionality). In such cases, other techniques like frequency encoding or grouping rare categories could be considered.\n",
        "\n",
        "6. Final preparation and feature scaling\n",
        "Split the data: Split the dataset into training and testing sets. This is a crucial step to prevent data leakage and properly evaluate the model's performance on unseen data.\n",
        "Feature scaling: Apply scaling to numerical features like age and transaction amount.\n",
        "Standardization (Z-score scaling): Transforms features to have a mean of 0 and a standard deviation of 1. This is particularly important for models that are sensitive to the scale of features, such as those that use distance metrics (e.g., KNN, SVM) or regularization.\n",
        "Robust scaling: Use median and IQR for scaling. This is more robust to the outliers you kept in the transaction amount feature."
      ],
      "metadata": {
        "id": "O3yxfV_i95v_"
      }
    },
    {
      "cell_type": "markdown",
      "source": [],
      "metadata": {
        "id": "ol18sbLI3PY3"
      }
    }
  ]
}